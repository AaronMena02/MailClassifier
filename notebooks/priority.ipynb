{
 "cells": [
  {
   "cell_type": "code",
   "execution_count": null,
   "id": "934aac08",
   "metadata": {},
   "outputs": [
    {
     "name": "stderr",
     "output_type": "stream",
     "text": [
      "c:\\Users\\Usuario\\Desktop\\MailClassifier\\.venv\\lib\\site-packages\\huggingface_hub\\file_download.py:943: FutureWarning: `resume_download` is deprecated and will be removed in version 1.0.0. Downloads always resume when possible. If you want to force a new download, use `force_download=True`.\n",
      "  warnings.warn(\n"
     ]
    },
    {
     "data": {
      "application/vnd.jupyter.widget-view+json": {
       "model_id": "cbc1e85b2ae041209e30f96389645531",
       "version_major": 2,
       "version_minor": 0
      },
      "text/plain": [
       "Map:   0%|          | 0/222 [00:00<?, ? examples/s]"
      ]
     },
     "metadata": {},
     "output_type": "display_data"
    },
    {
     "name": "stderr",
     "output_type": "stream",
     "text": [
      "Asking to truncate to max_length but no maximum length is provided and the model has no predefined maximum length. Default to no truncation.\n",
      "Some weights of RobertaForSequenceClassification were not initialized from the model checkpoint at pysentimiento/robertuito-base-uncased and are newly initialized: ['classifier.dense.bias', 'classifier.dense.weight', 'classifier.out_proj.bias', 'classifier.out_proj.weight']\n",
      "You should probably TRAIN this model on a down-stream task to be able to use it for predictions and inference.\n"
     ]
    },
    {
     "data": {
      "application/vnd.jupyter.widget-view+json": {
       "model_id": "64a7a06ce57f4dc0a83dd1d01371670b",
       "version_major": 2,
       "version_minor": 0
      },
      "text/plain": [
       "  0%|          | 0/138 [00:00<?, ?it/s]"
      ]
     },
     "metadata": {},
     "output_type": "display_data"
    },
    {
     "name": "stderr",
     "output_type": "stream",
     "text": [
      "c:\\Users\\Usuario\\Desktop\\MailClassifier\\.venv\\lib\\site-packages\\torch\\utils\\data\\dataloader.py:665: UserWarning: 'pin_memory' argument is set as true but no accelerator is found, then device pinned memory won't be used.\n",
      "  warnings.warn(warn_msg)\n"
     ]
    },
    {
     "name": "stdout",
     "output_type": "stream",
     "text": [
      "{'loss': 1.0331, 'grad_norm': 6.634586811065674, 'learning_rate': 1.8550724637681162e-05, 'epoch': 0.43}\n",
      "{'loss': 0.9584, 'grad_norm': 10.82573413848877, 'learning_rate': 1.710144927536232e-05, 'epoch': 0.87}\n"
     ]
    },
    {
     "data": {
      "application/vnd.jupyter.widget-view+json": {
       "model_id": "dcc1ea4e13c549839d3b1ae2536530cf",
       "version_major": 2,
       "version_minor": 0
      },
      "text/plain": [
       "  0%|          | 0/6 [00:00<?, ?it/s]"
      ]
     },
     "metadata": {},
     "output_type": "display_data"
    },
    {
     "name": "stdout",
     "output_type": "stream",
     "text": [
      "{'eval_loss': 0.7617284059524536, 'eval_accuracy': 0.8, 'eval_f1': 0.7948084836973724, 'eval_runtime': 1.0774, 'eval_samples_per_second': 41.769, 'eval_steps_per_second': 5.569, 'epoch': 1.0}\n"
     ]
    },
    {
     "name": "stderr",
     "output_type": "stream",
     "text": [
      "c:\\Users\\Usuario\\Desktop\\MailClassifier\\.venv\\lib\\site-packages\\torch\\utils\\data\\dataloader.py:665: UserWarning: 'pin_memory' argument is set as true but no accelerator is found, then device pinned memory won't be used.\n",
      "  warnings.warn(warn_msg)\n"
     ]
    },
    {
     "name": "stdout",
     "output_type": "stream",
     "text": [
      "{'loss': 0.7304, 'grad_norm': 4.811913013458252, 'learning_rate': 1.565217391304348e-05, 'epoch': 1.3}\n",
      "{'loss': 0.677, 'grad_norm': 7.421767711639404, 'learning_rate': 1.420289855072464e-05, 'epoch': 1.74}\n"
     ]
    },
    {
     "data": {
      "application/vnd.jupyter.widget-view+json": {
       "model_id": "5c07544769a84c42aab1d1ea9d243331",
       "version_major": 2,
       "version_minor": 0
      },
      "text/plain": [
       "  0%|          | 0/6 [00:00<?, ?it/s]"
      ]
     },
     "metadata": {},
     "output_type": "display_data"
    },
    {
     "name": "stdout",
     "output_type": "stream",
     "text": [
      "{'eval_loss': 0.5454011559486389, 'eval_accuracy': 0.8, 'eval_f1': 0.7948084836973724, 'eval_runtime': 1.0709, 'eval_samples_per_second': 42.022, 'eval_steps_per_second': 5.603, 'epoch': 2.0}\n"
     ]
    },
    {
     "name": "stderr",
     "output_type": "stream",
     "text": [
      "c:\\Users\\Usuario\\Desktop\\MailClassifier\\.venv\\lib\\site-packages\\torch\\utils\\data\\dataloader.py:665: UserWarning: 'pin_memory' argument is set as true but no accelerator is found, then device pinned memory won't be used.\n",
      "  warnings.warn(warn_msg)\n"
     ]
    },
    {
     "name": "stdout",
     "output_type": "stream",
     "text": [
      "{'loss': 0.5321, 'grad_norm': 8.418505668640137, 'learning_rate': 1.2753623188405797e-05, 'epoch': 2.17}\n",
      "{'loss': 0.4627, 'grad_norm': 8.316147804260254, 'learning_rate': 1.1304347826086957e-05, 'epoch': 2.61}\n"
     ]
    },
    {
     "data": {
      "application/vnd.jupyter.widget-view+json": {
       "model_id": "98a7403689ef427fa8f298f511622e3b",
       "version_major": 2,
       "version_minor": 0
      },
      "text/plain": [
       "  0%|          | 0/6 [00:00<?, ?it/s]"
      ]
     },
     "metadata": {},
     "output_type": "display_data"
    },
    {
     "name": "stdout",
     "output_type": "stream",
     "text": [
      "{'eval_loss': 0.46656692028045654, 'eval_accuracy': 0.8, 'eval_f1': 0.8016460905349793, 'eval_runtime': 1.0731, 'eval_samples_per_second': 41.934, 'eval_steps_per_second': 5.591, 'epoch': 3.0}\n"
     ]
    },
    {
     "name": "stderr",
     "output_type": "stream",
     "text": [
      "c:\\Users\\Usuario\\Desktop\\MailClassifier\\.venv\\lib\\site-packages\\torch\\utils\\data\\dataloader.py:665: UserWarning: 'pin_memory' argument is set as true but no accelerator is found, then device pinned memory won't be used.\n",
      "  warnings.warn(warn_msg)\n"
     ]
    },
    {
     "name": "stdout",
     "output_type": "stream",
     "text": [
      "{'loss': 0.5256, 'grad_norm': 8.173405647277832, 'learning_rate': 9.855072463768118e-06, 'epoch': 3.04}\n",
      "{'loss': 0.3569, 'grad_norm': 5.46782112121582, 'learning_rate': 8.405797101449275e-06, 'epoch': 3.48}\n",
      "{'loss': 0.3024, 'grad_norm': 4.517747402191162, 'learning_rate': 6.956521739130435e-06, 'epoch': 3.91}\n"
     ]
    },
    {
     "data": {
      "application/vnd.jupyter.widget-view+json": {
       "model_id": "9d1408cb5cfa410498764b85f6d18a6b",
       "version_major": 2,
       "version_minor": 0
      },
      "text/plain": [
       "  0%|          | 0/6 [00:00<?, ?it/s]"
      ]
     },
     "metadata": {},
     "output_type": "display_data"
    },
    {
     "name": "stdout",
     "output_type": "stream",
     "text": [
      "{'eval_loss': 0.42600217461586, 'eval_accuracy': 0.8444444444444444, 'eval_f1': 0.844807200362756, 'eval_runtime': 1.0753, 'eval_samples_per_second': 41.847, 'eval_steps_per_second': 5.58, 'epoch': 4.0}\n"
     ]
    },
    {
     "name": "stderr",
     "output_type": "stream",
     "text": [
      "c:\\Users\\Usuario\\Desktop\\MailClassifier\\.venv\\lib\\site-packages\\torch\\utils\\data\\dataloader.py:665: UserWarning: 'pin_memory' argument is set as true but no accelerator is found, then device pinned memory won't be used.\n",
      "  warnings.warn(warn_msg)\n"
     ]
    },
    {
     "name": "stdout",
     "output_type": "stream",
     "text": [
      "{'loss': 0.2779, 'grad_norm': 6.763035774230957, 'learning_rate': 5.507246376811595e-06, 'epoch': 4.35}\n",
      "{'loss': 0.3327, 'grad_norm': 5.528097152709961, 'learning_rate': 4.057971014492754e-06, 'epoch': 4.78}\n"
     ]
    },
    {
     "data": {
      "application/vnd.jupyter.widget-view+json": {
       "model_id": "2597fdf328244da49534dbe04ee7e8be",
       "version_major": 2,
       "version_minor": 0
      },
      "text/plain": [
       "  0%|          | 0/6 [00:00<?, ?it/s]"
      ]
     },
     "metadata": {},
     "output_type": "display_data"
    },
    {
     "name": "stdout",
     "output_type": "stream",
     "text": [
      "{'eval_loss': 0.39953574538230896, 'eval_accuracy': 0.8222222222222222, 'eval_f1': 0.819965811965812, 'eval_runtime': 1.0647, 'eval_samples_per_second': 42.266, 'eval_steps_per_second': 5.635, 'epoch': 5.0}\n"
     ]
    },
    {
     "name": "stderr",
     "output_type": "stream",
     "text": [
      "c:\\Users\\Usuario\\Desktop\\MailClassifier\\.venv\\lib\\site-packages\\torch\\utils\\data\\dataloader.py:665: UserWarning: 'pin_memory' argument is set as true but no accelerator is found, then device pinned memory won't be used.\n",
      "  warnings.warn(warn_msg)\n"
     ]
    },
    {
     "name": "stdout",
     "output_type": "stream",
     "text": [
      "{'loss': 0.2414, 'grad_norm': 2.9588441848754883, 'learning_rate': 2.6086956521739132e-06, 'epoch': 5.22}\n",
      "{'loss': 0.2669, 'grad_norm': 5.157289028167725, 'learning_rate': 1.1594202898550726e-06, 'epoch': 5.65}\n"
     ]
    },
    {
     "data": {
      "application/vnd.jupyter.widget-view+json": {
       "model_id": "9e1fa5274a2147eb943954d1105a8b99",
       "version_major": 2,
       "version_minor": 0
      },
      "text/plain": [
       "  0%|          | 0/6 [00:00<?, ?it/s]"
      ]
     },
     "metadata": {},
     "output_type": "display_data"
    },
    {
     "name": "stdout",
     "output_type": "stream",
     "text": [
      "{'eval_loss': 0.39798328280448914, 'eval_accuracy': 0.8222222222222222, 'eval_f1': 0.819965811965812, 'eval_runtime': 1.0766, 'eval_samples_per_second': 41.8, 'eval_steps_per_second': 5.573, 'epoch': 6.0}\n",
      "{'train_runtime': 135.032, 'train_samples_per_second': 7.865, 'train_steps_per_second': 1.022, 'train_loss': 0.4974019587903783, 'epoch': 6.0}\n"
     ]
    },
    {
     "data": {
      "text/plain": [
       "('./priority_model\\\\tokenizer_config.json',\n",
       " './priority_model\\\\special_tokens_map.json',\n",
       " './priority_model\\\\tokenizer.json')"
      ]
     },
     "execution_count": 15,
     "metadata": {},
     "output_type": "execute_result"
    }
   ],
   "source": [
    "# Paso 2: Importar librerías\n",
    "from transformers import AutoTokenizer, AutoModelForSequenceClassification, TrainingArguments, Trainer\n",
    "from datasets import Dataset\n",
    "import pandas as pd\n",
    "from sklearn.preprocessing import LabelEncoder\n",
    "import numpy as np\n",
    "import torch\n",
    "from transformers import EarlyStoppingCallback\n",
    "\n",
    "# Paso 3: Cargar y preparar el dataset\n",
    "df = pd.read_csv(\"../data/mails_dataset.csv\")  \n",
    "\n",
    "# Concatenar asunto y cuerpo separados por espacio\n",
    "df['text_combined'] = df['subject'].fillna('') + ' </s> ' + df['text'].fillna('')\n",
    "\n",
    "# Nos centramos en la columna combinada y la etiqueta priority\n",
    "df = df[['text_combined', 'priority']].dropna()\n",
    "\n",
    "# Codificar etiquetas\n",
    "label_encoder = LabelEncoder()\n",
    "df[\"label\"] = label_encoder.fit_transform(df[\"priority\"])\n",
    "\n",
    "# Guardar las etiquetas para decodificar luego\n",
    "label2id = {label: i for i, label in enumerate(label_encoder.classes_)}\n",
    "id2label = {i: label for label, i in label2id.items()}\n",
    "\n",
    "# Paso 4: Crear Dataset de Hugging Face\n",
    "dataset = Dataset.from_pandas(df.rename(columns={\"text_combined\": \"text\", \"label\": \"label\"}))\n",
    "\n",
    "# Paso 5: Tokenización\n",
    "model_name = \"pysentimiento/robertuito-base-uncased\"\n",
    "tokenizer = AutoTokenizer.from_pretrained(model_name)\n",
    "\n",
    "def tokenize(batch):\n",
    "    return tokenizer(batch[\"text\"], padding=True, truncation=True)\n",
    "\n",
    "dataset = dataset.map(tokenize, batched=True)\n",
    "\n",
    "# División entrenamiento y validación\n",
    "dataset = dataset.train_test_split(test_size=0.2)\n",
    "\n",
    "# Paso 6: Cargar modelo preentrenado\n",
    "num_labels = len(label2id)\n",
    "model = AutoModelForSequenceClassification.from_pretrained(\n",
    "    model_name,\n",
    "    num_labels=num_labels,\n",
    "    id2label=id2label,\n",
    "    label2id=label2id\n",
    ")\n",
    "\n",
    "# Paso 7: Configurar entrenamiento\n",
    "training_args = TrainingArguments(\n",
    "    output_dir=\"./priority_model\",\n",
    "    evaluation_strategy=\"epoch\",\n",
    "    save_strategy=\"epoch\",\n",
    "    load_best_model_at_end=True,      \n",
    "    metric_for_best_model=\"f1\",        \n",
    "    learning_rate=2e-5,\n",
    "    per_device_train_batch_size=8,\n",
    "    per_device_eval_batch_size=8,\n",
    "    num_train_epochs=6,\n",
    "    weight_decay=0.01,\n",
    "    logging_dir=\"./logs_priority\",\n",
    "    logging_steps=10\n",
    ")\n",
    "\n",
    "# Paso 8: Función de evaluación\n",
    "from sklearn.metrics import accuracy_score, f1_score\n",
    "\n",
    "def compute_metrics(pred):\n",
    "    labels = pred.label_ids\n",
    "    preds = np.argmax(pred.predictions, axis=1)\n",
    "    acc = accuracy_score(labels, preds)\n",
    "    f1 = f1_score(labels, preds, average=\"weighted\")\n",
    "    return {\"accuracy\": acc, \"f1\": f1}\n",
    "\n",
    "# Paso 9: Entrenador\n",
    "trainer = Trainer(\n",
    "    model=model,\n",
    "    args=training_args,\n",
    "    train_dataset=dataset[\"train\"],\n",
    "    eval_dataset=dataset[\"test\"],\n",
    "    tokenizer=tokenizer,\n",
    "    compute_metrics=compute_metrics,\n",
    "    callbacks=[EarlyStoppingCallback(early_stopping_patience=3)],\n",
    ")\n",
    "\n",
    "# Paso 10: Entrenar\n",
    "trainer.train()\n",
    "\n",
    "# Paso 11: Guardar el modelo y tokenizer\n",
    "trainer.save_model(\"./priority_model\")\n",
    "tokenizer.save_pretrained(\"./priority_model\")\n"
   ]
  },
  {
   "cell_type": "code",
   "execution_count": 16,
   "id": "f8f7da81",
   "metadata": {},
   "outputs": [
    {
     "name": "stderr",
     "output_type": "stream",
     "text": [
      "c:\\Users\\Usuario\\Desktop\\MailClassifier\\.venv\\lib\\site-packages\\torch\\utils\\data\\dataloader.py:665: UserWarning: 'pin_memory' argument is set as true but no accelerator is found, then device pinned memory won't be used.\n",
      "  warnings.warn(warn_msg)\n"
     ]
    },
    {
     "data": {
      "application/vnd.jupyter.widget-view+json": {
       "model_id": "3ccb0ca3bdfb41db8d74428394a66db7",
       "version_major": 2,
       "version_minor": 0
      },
      "text/plain": [
       "  0%|          | 0/6 [00:00<?, ?it/s]"
      ]
     },
     "metadata": {},
     "output_type": "display_data"
    },
    {
     "name": "stdout",
     "output_type": "stream",
     "text": [
      "Reporte de clasificación por clase:\n",
      "              precision    recall  f1-score   support\n",
      "\n",
      "        alta       0.89      0.94      0.92        18\n",
      "        baja       0.92      0.79      0.85        14\n",
      "       media       0.71      0.77      0.74        13\n",
      "\n",
      "    accuracy                           0.84        45\n",
      "   macro avg       0.84      0.83      0.84        45\n",
      "weighted avg       0.85      0.84      0.84        45\n",
      "\n"
     ]
    }
   ],
   "source": [
    "from sklearn.metrics import classification_report\n",
    "import numpy as np\n",
    "\n",
    "# Obtener predicciones en el conjunto de validación\n",
    "predictions = trainer.predict(dataset[\"test\"])\n",
    "y_true = predictions.label_ids\n",
    "y_pred = np.argmax(predictions.predictions, axis=1)\n",
    "\n",
    "# Mostrar el classification report con nombres reales\n",
    "print(\"Reporte de clasificación por clase:\")\n",
    "print(classification_report(y_true, y_pred, target_names=label_encoder.classes_))\n"
   ]
  },
  {
   "cell_type": "code",
   "execution_count": 5,
   "id": "14f5fdde",
   "metadata": {},
   "outputs": [
    {
     "name": "stdout",
     "output_type": "stream",
     "text": [
      "Texto                                                        | Esperado | Predicción | Score\n",
      "----------------------------------------------------------------------------------------------------\n",
      "Mi pedido no ha llegado y ya pasaron 10 días                 | alta     | alta       | 0.4748\n",
      "El repartidor fue descortés                                  | media    | media      | 0.4731\n",
      "¿Pueden confirmarme si tienen stock del producto?            | media    | media      | 0.8573\n",
      "Gracias por la atención, todo perfecto                       | baja     | baja       | 0.7073\n",
      "Recibí una caja vacía sin el producto dentro                 | alta     | alta       | 0.5957\n",
      "Quisiera modificar la dirección de entrega                   | media    | media      | 0.7559\n",
      "Nos gustaría evaluar una posible alianza comercial           | baja     | media      | 0.5662\n",
      "El servicio fue correcto, pero la web es un poco confusa     | media    | media      | 0.9214\n",
      "Solicito el alta inmediata del servicio para un cliente      | alta     | alta       | 0.4741\n",
      "No me llegó el correo de activación, pero puedo esperar      | baja     | baja       | 0.7544\n"
     ]
    }
   ],
   "source": [
    "from transformers import pipeline\n",
    "\n",
    "# Cargar el modelo y tokenizer ya entrenados para PRIORITY\n",
    "clf_priority = pipeline(\"text-classification\", model=\"./modelo_priority\", tokenizer=\"./modelo_priority\")\n",
    "\n",
    "# Lista de ejemplos: (texto, prioridad_esperada)\n",
    "ejemplos_priority = [\n",
    "    (\"Mi pedido no ha llegado y ya pasaron 10 días\", \"alta\"),\n",
    "    (\"El repartidor fue descortés\", \"media\"),\n",
    "    (\"¿Pueden confirmarme si tienen stock del producto?\", \"media\"),\n",
    "    (\"Gracias por la atención, todo perfecto\", \"baja\"),\n",
    "    (\"Recibí una caja vacía sin el producto dentro\", \"alta\"),\n",
    "    (\"Quisiera modificar la dirección de entrega\", \"media\"),\n",
    "    (\"Nos gustaría evaluar una posible alianza comercial\", \"baja\"),\n",
    "    (\"El servicio fue correcto, pero la web es un poco confusa\", \"media\"),\n",
    "    (\"Solicito el alta inmediata del servicio para un cliente\", \"alta\"),\n",
    "    (\"No me llegó el correo de activación, pero puedo esperar\", \"baja\"),\n",
    "]\n",
    "\n",
    "# Imprimir resultados\n",
    "print(f\"{'Texto':<60} | {'Esperado':<6} | {'Predicción':<10} | {'Score'}\")\n",
    "print(\"-\" * 100)\n",
    "\n",
    "for texto, esperado in ejemplos_priority:\n",
    "    pred = clf_priority(texto)[0]\n",
    "    print(f\"{texto[:57]:<60} | {esperado:<8} | {pred['label']:<10} | {pred['score']:.4f}\")\n"
   ]
  }
 ],
 "metadata": {
  "kernelspec": {
   "display_name": ".venv",
   "language": "python",
   "name": "python3"
  },
  "language_info": {
   "codemirror_mode": {
    "name": "ipython",
    "version": 3
   },
   "file_extension": ".py",
   "mimetype": "text/x-python",
   "name": "python",
   "nbconvert_exporter": "python",
   "pygments_lexer": "ipython3",
   "version": "3.10.0"
  }
 },
 "nbformat": 4,
 "nbformat_minor": 5
}
