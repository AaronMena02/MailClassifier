{
 "cells": [
  {
   "cell_type": "code",
   "execution_count": 6,
   "id": "934aac08",
   "metadata": {},
   "outputs": [
    {
     "name": "stdout",
     "output_type": "stream",
     "text": [
      "Usando dispositivo: cuda (NVIDIA GeForce RTX 4070 SUPER)\n"
     ]
    },
    {
     "data": {
      "application/vnd.jupyter.widget-view+json": {
       "model_id": "07bff318554d41c88e3c5b07b6934c6b",
       "version_major": 2,
       "version_minor": 0
      },
      "text/plain": [
       "Map:   0%|          | 0/262 [00:00<?, ? examples/s]"
      ]
     },
     "metadata": {},
     "output_type": "display_data"
    },
    {
     "name": "stdout",
     "output_type": "stream",
     "text": [
      "{'loss': 1.0447, 'grad_norm': 4.813197135925293, 'learning_rate': 1.761904761904762e-05, 'epoch': 0.7142857142857143}\n",
      "{'eval_loss': 0.8730468153953552, 'eval_accuracy': 0.6981132075471698, 'eval_f1': 0.6908805031446541, 'eval_runtime': 0.073, 'eval_samples_per_second': 726.021, 'eval_steps_per_second': 54.794, 'epoch': 1.0}\n",
      "{'loss': 0.9076, 'grad_norm': 5.208207130432129, 'learning_rate': 1.5476190476190476e-05, 'epoch': 1.4285714285714286}\n",
      "{'eval_loss': 0.6862769722938538, 'eval_accuracy': 0.7735849056603774, 'eval_f1': 0.7699889219082452, 'eval_runtime': 0.063, 'eval_samples_per_second': 841.277, 'eval_steps_per_second': 63.493, 'epoch': 2.0}\n",
      "{'loss': 0.6144, 'grad_norm': 4.731895923614502, 'learning_rate': 1.3095238095238096e-05, 'epoch': 2.142857142857143}\n",
      "{'loss': 0.5519, 'grad_norm': 3.9036455154418945, 'learning_rate': 1.0714285714285714e-05, 'epoch': 2.857142857142857}\n",
      "{'eval_loss': 0.5854054093360901, 'eval_accuracy': 0.7547169811320755, 'eval_f1': 0.7487870619946091, 'eval_runtime': 0.066, 'eval_samples_per_second': 803.028, 'eval_steps_per_second': 60.606, 'epoch': 3.0}\n",
      "{'loss': 0.4169, 'grad_norm': 3.5843570232391357, 'learning_rate': 8.333333333333334e-06, 'epoch': 3.571428571428571}\n",
      "{'eval_loss': 0.5518418550491333, 'eval_accuracy': 0.7924528301886793, 'eval_f1': 0.788810373716034, 'eval_runtime': 0.065, 'eval_samples_per_second': 815.375, 'eval_steps_per_second': 61.538, 'epoch': 4.0}\n",
      "{'loss': 0.4426, 'grad_norm': 4.46596097946167, 'learning_rate': 5.9523809523809525e-06, 'epoch': 4.285714285714286}\n",
      "{'loss': 0.3359, 'grad_norm': 5.991420269012451, 'learning_rate': 3.5714285714285718e-06, 'epoch': 5.0}\n",
      "{'eval_loss': 0.5408324599266052, 'eval_accuracy': 0.8113207547169812, 'eval_f1': 0.8085028357077502, 'eval_runtime': 0.048, 'eval_samples_per_second': 1104.181, 'eval_steps_per_second': 83.334, 'epoch': 5.0}\n",
      "{'loss': 0.3507, 'grad_norm': 3.559732437133789, 'learning_rate': 1.1904761904761906e-06, 'epoch': 5.714285714285714}\n",
      "{'eval_loss': 0.5416881442070007, 'eval_accuracy': 0.8113207547169812, 'eval_f1': 0.8085028357077502, 'eval_runtime': 0.066, 'eval_samples_per_second': 803.025, 'eval_steps_per_second': 60.606, 'epoch': 6.0}\n",
      "{'train_runtime': 12.4665, 'train_samples_per_second': 100.589, 'train_steps_per_second': 6.738, 'train_loss': 0.5688833055042085, 'epoch': 6.0}\n"
     ]
    },
    {
     "data": {
      "text/plain": [
       "('./priority_model\\\\tokenizer_config.json',\n",
       " './priority_model\\\\special_tokens_map.json',\n",
       " './priority_model\\\\tokenizer.json')"
      ]
     },
     "execution_count": 6,
     "metadata": {},
     "output_type": "execute_result"
    }
   ],
   "source": [
    "import warnings\n",
    "import logging\n",
    "import os\n",
    "import torch\n",
    "import numpy as np\n",
    "import pandas as pd\n",
    "from datasets import Dataset\n",
    "from transformers import AutoTokenizer, AutoModelForSequenceClassification, TrainingArguments, Trainer, EarlyStoppingCallback\n",
    "from sklearn.metrics import accuracy_score, f1_score\n",
    "from sklearn.preprocessing import LabelEncoder\n",
    "\n",
    "# Silenciar warnings y configurar logs\n",
    "warnings.filterwarnings(\"ignore\")\n",
    "transformers_logger = logging.getLogger(\"transformers\")\n",
    "transformers_logger.setLevel(logging.ERROR)\n",
    "datasets_logger = logging.getLogger(\"datasets\")\n",
    "datasets_logger.setLevel(logging.ERROR)\n",
    "os.environ[\"TRANSFORMERS_NO_ADVISORY_WARNINGS\"] = \"1\"\n",
    "\n",
    "# Confguración para usar la GPU disponible (RTX 4070 SUPER)\n",
    "device = \"cuda\" if torch.cuda.is_available() else \"cpu\"\n",
    "print(f\"Usando dispositivo: {device} ({torch.cuda.get_device_name(0) if device == 'cuda' else 'CPU'})\")\n",
    "\n",
    "df = pd.read_csv(\"../data/mails_dataset.csv\")\n",
    "\n",
    "# Combinar asunto y cuerpo con separador especial\n",
    "df['text_combined'] = df['subject'].fillna('') + ' </s> ' + df['text'].fillna('')\n",
    "df = df[['text_combined', 'priority']].dropna()\n",
    "\n",
    "# Codificar categorías\n",
    "label_encoder = LabelEncoder()\n",
    "df[\"label\"] = label_encoder.fit_transform(df[\"priority\"])\n",
    "label2id = {label: i for i, label in enumerate(label_encoder.classes_)}\n",
    "id2label = {i: label for label, i in label2id.items()}\n",
    "\n",
    "# Crear Dataset HuggingFace\n",
    "dataset = Dataset.from_pandas(df.rename(columns={\"text_combined\": \"text\", \"label\": \"label\"}))\n",
    "\n",
    "# Tokenizar texto\n",
    "model_name = \"pysentimiento/robertuito-base-uncased\"\n",
    "tokenizer = AutoTokenizer.from_pretrained(model_name)\n",
    "\n",
    "def tokenize(batch):\n",
    "    return tokenizer(batch[\"text\"], padding=True, truncation=True)\n",
    "\n",
    "dataset = dataset.map(tokenize, batched=True)\n",
    "dataset = dataset.train_test_split(test_size=0.2)\n",
    "\n",
    "num_labels = len(label2id)\n",
    "model = AutoModelForSequenceClassification.from_pretrained(\n",
    "    model_name,\n",
    "    num_labels=num_labels,\n",
    "    id2label=id2label,\n",
    "    label2id=label2id\n",
    ")\n",
    "\n",
    "# Entrenamiento\n",
    "training_args = TrainingArguments(\n",
    "    output_dir=\"./priority_model\",\n",
    "    evaluation_strategy=\"epoch\",\n",
    "    save_strategy=\"epoch\",\n",
    "    load_best_model_at_end=True,\n",
    "    metric_for_best_model=\"f1\",\n",
    "    learning_rate=2e-5,\n",
    "    per_device_train_batch_size=16,\n",
    "    per_device_eval_batch_size=16,\n",
    "    num_train_epochs=6,\n",
    "    weight_decay=0.01,\n",
    "    logging_dir=\"./logs_priority\",\n",
    "    logging_steps=10,\n",
    "    fp16=True,\n",
    "    report_to=\"none\"\n",
    ")\n",
    "\n",
    "# Evaluación\n",
    "def compute_metrics(pred):\n",
    "    labels = pred.label_ids\n",
    "    preds = np.argmax(pred.predictions, axis=1)\n",
    "    acc = accuracy_score(labels, preds)\n",
    "    f1 = f1_score(labels, preds, average=\"weighted\")\n",
    "    return {\"accuracy\": acc, \"f1\": f1}\n",
    "\n",
    "# Trainer\n",
    "trainer = Trainer(\n",
    "    model=model,\n",
    "    args=training_args,\n",
    "    train_dataset=dataset[\"train\"],\n",
    "    eval_dataset=dataset[\"test\"],\n",
    "    tokenizer=tokenizer,\n",
    "    compute_metrics=compute_metrics,\n",
    "    callbacks=[EarlyStoppingCallback(early_stopping_patience=3)],\n",
    ")\n",
    "\n",
    "trainer.train()\n",
    "\n",
    "# Guardar modelo y tokenizer\n",
    "trainer.save_model(\"./priority_model\")\n",
    "tokenizer.save_pretrained(\"./priority_model\")\n"
   ]
  },
  {
   "cell_type": "code",
   "execution_count": 7,
   "id": "f8f7da81",
   "metadata": {},
   "outputs": [
    {
     "name": "stdout",
     "output_type": "stream",
     "text": [
      "Reporte de clasificación por clase:\n",
      "              precision    recall  f1-score   support\n",
      "\n",
      "        alta       0.86      1.00      0.92        12\n",
      "        baja       0.78      0.74      0.76        19\n",
      "       media       0.81      0.77      0.79        22\n",
      "\n",
      "    accuracy                           0.81        53\n",
      "   macro avg       0.81      0.84      0.82        53\n",
      "weighted avg       0.81      0.81      0.81        53\n",
      "\n"
     ]
    }
   ],
   "source": [
    "from sklearn.metrics import classification_report\n",
    "import numpy as np\n",
    "\n",
    "# Obtener predicciones en el conjunto de validación\n",
    "predictions = trainer.predict(dataset[\"test\"])\n",
    "y_true = predictions.label_ids\n",
    "y_pred = np.argmax(predictions.predictions, axis=1)\n",
    "\n",
    "# Mostrar el classification report con nombres reales\n",
    "print(\"Reporte de clasificación por clase:\")\n",
    "print(classification_report(y_true, y_pred, target_names=label_encoder.classes_))\n"
   ]
  },
  {
   "cell_type": "code",
   "execution_count": null,
   "id": "14f5fdde",
   "metadata": {},
   "outputs": [
    {
     "name": "stdout",
     "output_type": "stream",
     "text": [
      "Asunto + Cuerpo                                                        | Esperado   | Predicción\n",
      "-------------------------------------------------------------------------------------------------------------------\n",
      "Pedido no entregado. Mi pedido no ha llegado y ya pasaron 10 días      | alta       | alta      \n",
      "Repartidor descortés. El repartidor fue descortés                      | media      | baja      \n",
      "Consulta sobre stock. ¿Pueden confirmarme si tienen stock del produ    | media      | media     \n",
      "Agradecimiento. Gracias por la atención, todo perfecto                 | baja       | baja      \n",
      "Caja vacía. Recibí una caja vacía sin el producto dentro               | alta       | baja      \n",
      "Modificar dirección. Quisiera modificar la dirección de entrega        | media      | media     \n",
      "Alianza comercial. Nos gustaría evaluar una posible alianza comerci    | baja       | baja      \n",
      "Web confusa. El servicio fue correcto, pero la web es un poco confu    | media      | baja      \n",
      "Alta urgente. Solicito el alta inmediata del servicio para un clien    | alta       | alta      \n",
      "Correo no recibido. No me llegó el correo de activación, pero puedo    | baja       | media     \n",
      "Consulta sobre factura. ¿Podrían enviarme la factura del último ped    | media      | media     \n",
      "Problema técnico leve. He tenido que reiniciar la app dos veces est    | media      | alta      \n",
      "Petición de reembolso. Quiero tramitar el reembolso por el producto    | alta       | alta      \n",
      "Comentario general. Todo funciona bien, aunque echo de menos alguna    | baja       | baja      \n",
      "Cambio de titular. Me gustaría cambiar el nombre de titular en la c    | media      | baja      \n",
      "-------------------------------------------------------------------------------------------------------------------\n",
      "Aciertos: 9 / 15  →  Precisión: 60.00%\n"
     ]
    }
   ],
   "source": [
    "from transformers import pipeline\n",
    "import pandas as pd\n",
    "\n",
    "# Cargar modelo y tokenizer desde HuggingFace\n",
    "clf_priority = pipeline(\"text-classification\", model=\"aaronmena02/priority-model-mailclassifier\", tokenizer=\"aaronmena02/priority-model-mailclassifier\")\n",
    "\n",
    "# Ejemplos para pruebas\n",
    "ejemplos_priority = [\n",
    "    (\"Pedido no entregado\", \"Mi pedido no ha llegado y ya pasaron 10 días\", \"alta\"),\n",
    "    (\"Repartidor descortés\", \"El repartidor fue descortés\", \"media\"),\n",
    "    (\"Consulta sobre stock\", \"¿Pueden confirmarme si tienen stock del producto?\", \"media\"),\n",
    "    (\"Agradecimiento\", \"Gracias por la atención, todo perfecto\", \"baja\"),\n",
    "    (\"Caja vacía\", \"Recibí una caja vacía sin el producto dentro\", \"alta\"),\n",
    "    (\"Modificar dirección\", \"Quisiera modificar la dirección de entrega\", \"media\"),\n",
    "    (\"Alianza comercial\", \"Nos gustaría evaluar una posible alianza comercial\", \"baja\"),\n",
    "    (\"Web confusa\", \"El servicio fue correcto, pero la web es un poco confusa\", \"media\"),\n",
    "    (\"Alta urgente\", \"Solicito el alta inmediata del servicio para un cliente\", \"alta\"),\n",
    "    (\"Correo no recibido\", \"No me llegó el correo de activación, pero puedo esperar\", \"baja\"),\n",
    "    (\"Consulta sobre factura\", \"¿Podrían enviarme la factura del último pedido, por favor?\", \"media\"),\n",
    "    (\"Problema técnico leve\", \"He tenido que reiniciar la app dos veces esta semana\", \"media\"),\n",
    "    (\"Petición de reembolso\", \"Quiero tramitar el reembolso por el producto que no funcionó\", \"alta\"),\n",
    "    (\"Comentario general\", \"Todo funciona bien, aunque echo de menos algunas funciones\", \"baja\"),\n",
    "    (\"Cambio de titular\", \"Me gustaría cambiar el nombre de titular en la cuenta\", \"media\"),\n",
    "]\n",
    "\n",
    "# Mostrar resultados\n",
    "print(f\"{'Asunto + Cuerpo':<70} | {'Esperado':<10} | {'Predicción':<10}\")\n",
    "print(\"-\" * 115)\n",
    "aciertos = 0\n",
    "\n",
    "for asunto, cuerpo, esperado in ejemplos_priority:\n",
    "    texto = f\"{asunto.strip()}. {cuerpo.strip()}\"\n",
    "    pred = clf_priority(texto)[0]\n",
    "    print(f\"{texto[:67]:<70} | {esperado:<10} | {pred['label']:<10}\")\n",
    "    if pred['label'] == esperado:\n",
    "        aciertos += 1\n",
    "\n",
    "porcentaje_acierto = (aciertos / len(ejemplos_priority)) * 100\n",
    "print(\"-\" * 115)\n",
    "print(f\"Aciertos: {aciertos} / {len(ejemplos_priority)}  →  Precisión: {porcentaje_acierto:.2f}%\")\n"
   ]
  }
 ],
 "metadata": {
  "kernelspec": {
   "display_name": ".venv",
   "language": "python",
   "name": "python3"
  },
  "language_info": {
   "codemirror_mode": {
    "name": "ipython",
    "version": 3
   },
   "file_extension": ".py",
   "mimetype": "text/x-python",
   "name": "python",
   "nbconvert_exporter": "python",
   "pygments_lexer": "ipython3",
   "version": "3.10.0"
  }
 },
 "nbformat": 4,
 "nbformat_minor": 5
}
