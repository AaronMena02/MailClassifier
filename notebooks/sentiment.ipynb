{
 "cells": [
  {
   "cell_type": "code",
   "execution_count": null,
   "id": "b007c747",
   "metadata": {},
   "outputs": [
    {
     "name": "stdout",
     "output_type": "stream",
     "text": [
      "['negativo' 'neutro' 'positivo']\n"
     ]
    },
    {
     "name": "stderr",
     "output_type": "stream",
     "text": [
      "c:\\Users\\Usuario\\Desktop\\MailClassifier\\.venv\\lib\\site-packages\\huggingface_hub\\file_download.py:943: FutureWarning: `resume_download` is deprecated and will be removed in version 1.0.0. Downloads always resume when possible. If you want to force a new download, use `force_download=True`.\n",
      "  warnings.warn(\n"
     ]
    },
    {
     "data": {
      "application/vnd.jupyter.widget-view+json": {
       "model_id": "b3f8429ae24943ccbf1636cd957b7bed",
       "version_major": 2,
       "version_minor": 0
      },
      "text/plain": [
       "Map:   0%|          | 0/222 [00:00<?, ? examples/s]"
      ]
     },
     "metadata": {},
     "output_type": "display_data"
    },
    {
     "name": "stderr",
     "output_type": "stream",
     "text": [
      "Asking to truncate to max_length but no maximum length is provided and the model has no predefined maximum length. Default to no truncation.\n",
      "Some weights of RobertaForSequenceClassification were not initialized from the model checkpoint at pysentimiento/robertuito-base-uncased and are newly initialized: ['classifier.dense.bias', 'classifier.dense.weight', 'classifier.out_proj.bias', 'classifier.out_proj.weight']\n",
      "You should probably TRAIN this model on a down-stream task to be able to use it for predictions and inference.\n"
     ]
    },
    {
     "data": {
      "application/vnd.jupyter.widget-view+json": {
       "model_id": "7ee85875ec24459ab2a7c17c28a79424",
       "version_major": 2,
       "version_minor": 0
      },
      "text/plain": [
       "  0%|          | 0/138 [00:00<?, ?it/s]"
      ]
     },
     "metadata": {},
     "output_type": "display_data"
    },
    {
     "name": "stderr",
     "output_type": "stream",
     "text": [
      "c:\\Users\\Usuario\\Desktop\\MailClassifier\\.venv\\lib\\site-packages\\torch\\utils\\data\\dataloader.py:665: UserWarning: 'pin_memory' argument is set as true but no accelerator is found, then device pinned memory won't be used.\n",
      "  warnings.warn(warn_msg)\n"
     ]
    },
    {
     "name": "stdout",
     "output_type": "stream",
     "text": [
      "{'loss': 1.0141, 'grad_norm': 9.166400909423828, 'learning_rate': 1.8550724637681162e-05, 'epoch': 0.43}\n",
      "{'loss': 0.7957, 'grad_norm': 6.58314323425293, 'learning_rate': 1.710144927536232e-05, 'epoch': 0.87}\n"
     ]
    },
    {
     "data": {
      "application/vnd.jupyter.widget-view+json": {
       "model_id": "1c9c6e0e66344181964edf444968b751",
       "version_major": 2,
       "version_minor": 0
      },
      "text/plain": [
       "  0%|          | 0/6 [00:00<?, ?it/s]"
      ]
     },
     "metadata": {},
     "output_type": "display_data"
    },
    {
     "name": "stdout",
     "output_type": "stream",
     "text": [
      "{'eval_loss': 0.6531133055686951, 'eval_accuracy': 0.8, 'eval_f1': 0.7970942760942761, 'eval_runtime': 1.1269, 'eval_samples_per_second': 39.931, 'eval_steps_per_second': 5.324, 'epoch': 1.0}\n"
     ]
    },
    {
     "name": "stderr",
     "output_type": "stream",
     "text": [
      "c:\\Users\\Usuario\\Desktop\\MailClassifier\\.venv\\lib\\site-packages\\torch\\utils\\data\\dataloader.py:665: UserWarning: 'pin_memory' argument is set as true but no accelerator is found, then device pinned memory won't be used.\n",
      "  warnings.warn(warn_msg)\n"
     ]
    },
    {
     "name": "stdout",
     "output_type": "stream",
     "text": [
      "{'loss': 0.5277, 'grad_norm': 4.263016700744629, 'learning_rate': 1.565217391304348e-05, 'epoch': 1.3}\n",
      "{'loss': 0.4258, 'grad_norm': 11.197798728942871, 'learning_rate': 1.420289855072464e-05, 'epoch': 1.74}\n"
     ]
    },
    {
     "data": {
      "application/vnd.jupyter.widget-view+json": {
       "model_id": "85ab467e54bc42aeb557ba8bcb361e09",
       "version_major": 2,
       "version_minor": 0
      },
      "text/plain": [
       "  0%|          | 0/6 [00:00<?, ?it/s]"
      ]
     },
     "metadata": {},
     "output_type": "display_data"
    },
    {
     "name": "stdout",
     "output_type": "stream",
     "text": [
      "{'eval_loss': 0.37175920605659485, 'eval_accuracy': 0.8666666666666667, 'eval_f1': 0.8631313131313132, 'eval_runtime': 1.0687, 'eval_samples_per_second': 42.106, 'eval_steps_per_second': 5.614, 'epoch': 2.0}\n"
     ]
    },
    {
     "name": "stderr",
     "output_type": "stream",
     "text": [
      "c:\\Users\\Usuario\\Desktop\\MailClassifier\\.venv\\lib\\site-packages\\torch\\utils\\data\\dataloader.py:665: UserWarning: 'pin_memory' argument is set as true but no accelerator is found, then device pinned memory won't be used.\n",
      "  warnings.warn(warn_msg)\n"
     ]
    },
    {
     "name": "stdout",
     "output_type": "stream",
     "text": [
      "{'loss': 0.305, 'grad_norm': 1.9997150897979736, 'learning_rate': 1.2753623188405797e-05, 'epoch': 2.17}\n",
      "{'loss': 0.2419, 'grad_norm': 4.433629989624023, 'learning_rate': 1.1304347826086957e-05, 'epoch': 2.61}\n"
     ]
    },
    {
     "data": {
      "application/vnd.jupyter.widget-view+json": {
       "model_id": "d7b72d6fe96a46599631e84678c2837c",
       "version_major": 2,
       "version_minor": 0
      },
      "text/plain": [
       "  0%|          | 0/6 [00:00<?, ?it/s]"
      ]
     },
     "metadata": {},
     "output_type": "display_data"
    },
    {
     "name": "stdout",
     "output_type": "stream",
     "text": [
      "{'eval_loss': 0.2871778607368469, 'eval_accuracy': 0.9111111111111111, 'eval_f1': 0.9101010101010101, 'eval_runtime': 1.2144, 'eval_samples_per_second': 37.057, 'eval_steps_per_second': 4.941, 'epoch': 3.0}\n"
     ]
    },
    {
     "name": "stderr",
     "output_type": "stream",
     "text": [
      "c:\\Users\\Usuario\\Desktop\\MailClassifier\\.venv\\lib\\site-packages\\torch\\utils\\data\\dataloader.py:665: UserWarning: 'pin_memory' argument is set as true but no accelerator is found, then device pinned memory won't be used.\n",
      "  warnings.warn(warn_msg)\n"
     ]
    },
    {
     "name": "stdout",
     "output_type": "stream",
     "text": [
      "{'loss': 0.1732, 'grad_norm': 4.2565693855285645, 'learning_rate': 9.855072463768118e-06, 'epoch': 3.04}\n",
      "{'loss': 0.1251, 'grad_norm': 5.562937259674072, 'learning_rate': 8.405797101449275e-06, 'epoch': 3.48}\n",
      "{'loss': 0.1133, 'grad_norm': 0.7796284556388855, 'learning_rate': 6.956521739130435e-06, 'epoch': 3.91}\n"
     ]
    },
    {
     "data": {
      "application/vnd.jupyter.widget-view+json": {
       "model_id": "2980d5da0a474c6ba0ce8d9ccd168fe6",
       "version_major": 2,
       "version_minor": 0
      },
      "text/plain": [
       "  0%|          | 0/6 [00:00<?, ?it/s]"
      ]
     },
     "metadata": {},
     "output_type": "display_data"
    },
    {
     "name": "stdout",
     "output_type": "stream",
     "text": [
      "{'eval_loss': 0.2682146728038788, 'eval_accuracy': 0.9333333333333333, 'eval_f1': 0.9320158102766799, 'eval_runtime': 1.2187, 'eval_samples_per_second': 36.925, 'eval_steps_per_second': 4.923, 'epoch': 4.0}\n"
     ]
    },
    {
     "name": "stderr",
     "output_type": "stream",
     "text": [
      "c:\\Users\\Usuario\\Desktop\\MailClassifier\\.venv\\lib\\site-packages\\torch\\utils\\data\\dataloader.py:665: UserWarning: 'pin_memory' argument is set as true but no accelerator is found, then device pinned memory won't be used.\n",
      "  warnings.warn(warn_msg)\n"
     ]
    },
    {
     "name": "stdout",
     "output_type": "stream",
     "text": [
      "{'loss': 0.0534, 'grad_norm': 2.7986624240875244, 'learning_rate': 5.507246376811595e-06, 'epoch': 4.35}\n",
      "{'loss': 0.0606, 'grad_norm': 0.7628331184387207, 'learning_rate': 4.057971014492754e-06, 'epoch': 4.78}\n"
     ]
    },
    {
     "data": {
      "application/vnd.jupyter.widget-view+json": {
       "model_id": "885aa489f8a94fcaa654e5dcf7779580",
       "version_major": 2,
       "version_minor": 0
      },
      "text/plain": [
       "  0%|          | 0/6 [00:00<?, ?it/s]"
      ]
     },
     "metadata": {},
     "output_type": "display_data"
    },
    {
     "name": "stdout",
     "output_type": "stream",
     "text": [
      "{'eval_loss': 0.24746227264404297, 'eval_accuracy': 0.9333333333333333, 'eval_f1': 0.9320158102766799, 'eval_runtime': 1.224, 'eval_samples_per_second': 36.766, 'eval_steps_per_second': 4.902, 'epoch': 5.0}\n"
     ]
    },
    {
     "name": "stderr",
     "output_type": "stream",
     "text": [
      "c:\\Users\\Usuario\\Desktop\\MailClassifier\\.venv\\lib\\site-packages\\torch\\utils\\data\\dataloader.py:665: UserWarning: 'pin_memory' argument is set as true but no accelerator is found, then device pinned memory won't be used.\n",
      "  warnings.warn(warn_msg)\n"
     ]
    },
    {
     "name": "stdout",
     "output_type": "stream",
     "text": [
      "{'loss': 0.067, 'grad_norm': 0.8798983097076416, 'learning_rate': 2.6086956521739132e-06, 'epoch': 5.22}\n",
      "{'loss': 0.03, 'grad_norm': 1.262814998626709, 'learning_rate': 1.1594202898550726e-06, 'epoch': 5.65}\n"
     ]
    },
    {
     "data": {
      "application/vnd.jupyter.widget-view+json": {
       "model_id": "87b6ce0565dd44e29421d36a3df6327b",
       "version_major": 2,
       "version_minor": 0
      },
      "text/plain": [
       "  0%|          | 0/6 [00:00<?, ?it/s]"
      ]
     },
     "metadata": {},
     "output_type": "display_data"
    },
    {
     "name": "stdout",
     "output_type": "stream",
     "text": [
      "{'eval_loss': 0.24490036070346832, 'eval_accuracy': 0.9333333333333333, 'eval_f1': 0.9320158102766799, 'eval_runtime': 1.1993, 'eval_samples_per_second': 37.521, 'eval_steps_per_second': 5.003, 'epoch': 6.0}\n",
      "{'train_runtime': 144.533, 'train_samples_per_second': 7.348, 'train_steps_per_second': 0.955, 'train_loss': 0.29218123032562976, 'epoch': 6.0}\n"
     ]
    },
    {
     "data": {
      "text/plain": [
       "('./sentiment_model\\\\tokenizer_config.json',\n",
       " './sentiment_model\\\\special_tokens_map.json',\n",
       " './sentiment_model\\\\tokenizer.json')"
      ]
     },
     "execution_count": 1,
     "metadata": {},
     "output_type": "execute_result"
    }
   ],
   "source": [
    "# Paso 2: Importar librerías\n",
    "from transformers import AutoTokenizer, AutoModelForSequenceClassification, TrainingArguments, Trainer\n",
    "from datasets import Dataset\n",
    "import pandas as pd\n",
    "from sklearn.preprocessing import LabelEncoder\n",
    "import numpy as np\n",
    "import torch\n",
    "from transformers import EarlyStoppingCallback\n",
    "\n",
    "# Paso 3: Cargar y preparar el dataset\n",
    "df = pd.read_csv(\"../data/mails_dataset.csv\")  \n",
    "\n",
    "# Concatenar asunto y cuerpo separados por espacio\n",
    "df['text_combined'] = df['subject'].fillna('') + ' </s> ' + df['text'].fillna('')\n",
    "\n",
    "# Nos centramos en la columna combinada y la etiqueta sentiment\n",
    "df = df[['text_combined', 'sentiment']].dropna()\n",
    "\n",
    "# Codificar etiquetas\n",
    "label_encoder = LabelEncoder()\n",
    "df[\"label\"] = label_encoder.fit_transform(df[\"sentiment\"])\n",
    "\n",
    "# Guardar las etiquetas para decodificar luego\n",
    "label2id = {label: i for i, label in enumerate(label_encoder.classes_)}\n",
    "id2label = {i: label for label, i in label2id.items()}\n",
    "print(label_encoder.classes_)\n",
    "\n",
    "# Paso 4: Crear Dataset de Hugging Face\n",
    "dataset = Dataset.from_pandas(df.rename(columns={\"text_combined\": \"text\", \"label\": \"label\"}))\n",
    "\n",
    "# Paso 5: Tokenización\n",
    "model_name = \"pysentimiento/robertuito-base-uncased\"\n",
    "tokenizer = AutoTokenizer.from_pretrained(model_name)\n",
    "\n",
    "def tokenize(batch):\n",
    "    return tokenizer(batch[\"text\"], padding=True, truncation=True)\n",
    "\n",
    "dataset = dataset.map(tokenize, batched=True)\n",
    "\n",
    "# División entrenamiento y validación\n",
    "dataset = dataset.train_test_split(test_size=0.2)\n",
    "\n",
    "# Paso 6: Cargar modelo preentrenado\n",
    "num_labels = len(label2id)\n",
    "model = AutoModelForSequenceClassification.from_pretrained(\n",
    "    model_name,\n",
    "    num_labels=num_labels,\n",
    "    id2label=id2label,\n",
    "    label2id=label2id\n",
    ")\n",
    "\n",
    "# Paso 7: Configurar entrenamiento\n",
    "training_args = TrainingArguments(\n",
    "    output_dir=\"./sentiment_model\",\n",
    "    evaluation_strategy=\"epoch\",\n",
    "    save_strategy=\"epoch\",\n",
    "    load_best_model_at_end=True,      \n",
    "    metric_for_best_model=\"f1\",        \n",
    "    learning_rate=2e-5,\n",
    "    per_device_train_batch_size=8,\n",
    "    per_device_eval_batch_size=8,\n",
    "    num_train_epochs=6,\n",
    "    weight_decay=0.01,\n",
    "    logging_dir=\"./logs_sentiment\",\n",
    "    logging_steps=10\n",
    ")\n",
    "\n",
    "\n",
    "# Paso 8: Función de evaluación\n",
    "from sklearn.metrics import accuracy_score, f1_score\n",
    "\n",
    "def compute_metrics(pred):\n",
    "    labels = pred.label_ids\n",
    "    preds = np.argmax(pred.predictions, axis=1)\n",
    "    acc = accuracy_score(labels, preds)\n",
    "    f1 = f1_score(labels, preds, average=\"weighted\")\n",
    "    return {\"accuracy\": acc, \"f1\": f1}\n",
    "\n",
    "# Paso 9: Entrenador\n",
    "trainer = Trainer(\n",
    "    model=model,\n",
    "    args=training_args,\n",
    "    train_dataset=dataset[\"train\"],\n",
    "    eval_dataset=dataset[\"test\"],\n",
    "    tokenizer=tokenizer,\n",
    "    compute_metrics=compute_metrics,\n",
    "    callbacks=[EarlyStoppingCallback(early_stopping_patience=3)],\n",
    ")\n",
    "\n",
    "# Paso 10: Entrenar\n",
    "trainer.train()\n",
    "\n",
    "# Paso 11: Guardar el modelo y tokenizer\n",
    "trainer.save_model(\"./sentiment_model\")\n",
    "tokenizer.save_pretrained(\"./sentiment_model\")\n"
   ]
  },
  {
   "cell_type": "code",
   "execution_count": 2,
   "id": "0dbb3b2c",
   "metadata": {},
   "outputs": [
    {
     "name": "stderr",
     "output_type": "stream",
     "text": [
      "c:\\Users\\Usuario\\Desktop\\MailClassifier\\.venv\\lib\\site-packages\\torch\\utils\\data\\dataloader.py:665: UserWarning: 'pin_memory' argument is set as true but no accelerator is found, then device pinned memory won't be used.\n",
      "  warnings.warn(warn_msg)\n"
     ]
    },
    {
     "data": {
      "application/vnd.jupyter.widget-view+json": {
       "model_id": "3b9f9e0e940b4d5493635f651ca36f92",
       "version_major": 2,
       "version_minor": 0
      },
      "text/plain": [
       "  0%|          | 0/6 [00:00<?, ?it/s]"
      ]
     },
     "metadata": {},
     "output_type": "display_data"
    },
    {
     "name": "stdout",
     "output_type": "stream",
     "text": [
      "Reporte de clasificación por clase:\n",
      "              precision    recall  f1-score   support\n",
      "\n",
      "    negativo       1.00      1.00      1.00        17\n",
      "      neutro       1.00      0.77      0.87        13\n",
      "    positivo       0.83      1.00      0.91        15\n",
      "\n",
      "    accuracy                           0.93        45\n",
      "   macro avg       0.94      0.92      0.93        45\n",
      "weighted avg       0.94      0.93      0.93        45\n",
      "\n"
     ]
    }
   ],
   "source": [
    "from sklearn.metrics import classification_report\n",
    "import numpy as np\n",
    "\n",
    "# Obtener predicciones sobre el set de evaluación\n",
    "predictions = trainer.predict(dataset[\"test\"])\n",
    "y_true = predictions.label_ids\n",
    "y_pred = np.argmax(predictions.predictions, axis=1)\n",
    "\n",
    "# Mostrar el reporte con los nombres reales de las clases\n",
    "print(\"Reporte de clasificación por clase:\")\n",
    "print(classification_report(y_true, y_pred, target_names=label_encoder.classes_))\n"
   ]
  },
  {
   "cell_type": "code",
   "execution_count": 9,
   "id": "8a001615",
   "metadata": {},
   "outputs": [
    {
     "name": "stdout",
     "output_type": "stream",
     "text": [
      "Texto: Asunto: Pedido recibido con retraso\n",
      "    Hola equipo,\n",
      "    Quería informar que mi pedido llegó con dos días de retraso, aunque el producto está en buen estado.\n",
      "    Gracias.\n",
      "Predicción: neutro, Confianza: 0.53\n",
      "\n",
      "Texto: Asunto: Producto defectuoso\n",
      "    Estimados,\n",
      "    Recibí el producto con un defecto y quisiera solicitar un reemplazo urgente.\n",
      "    Espero una pronta respuesta.\n",
      "Predicción: negativo, Confianza: 0.47\n",
      "\n",
      "Texto: Asunto: Excelente servicio\n",
      "    Buenas tardes,\n",
      "    Solo quería agradecer la rapidez y eficiencia en la entrega de mi pedido. Muy satisfecho con el servicio.\n",
      "Predicción: positivo, Confianza: 0.75\n",
      "\n",
      "Texto: Asunto: Problemas con la factura\n",
      "    Hola,\n",
      "    He detectado cargos que no reconozco en la factura y necesito que se revise cuanto antes.\n",
      "    Saludos.\n",
      "Predicción: negativo, Confianza: 0.49\n",
      "\n",
      "Texto: Asunto: Consulta sobre producto\n",
      "    Buen día,\n",
      "    Me gustaría saber si el modelo X200 está disponible en color negro y si tiene garantía extendida.\n",
      "    Gracias.\n",
      "Predicción: neutro, Confianza: 0.79\n",
      "\n",
      "Texto: Asunto: Gracias por la ayuda\n",
      "    Quiero expresar mi agradecimiento por la asistencia que me brindaron ayer. Todo fue excelente.\n",
      "Predicción: positivo, Confianza: 0.77\n",
      "\n",
      "Texto: Asunto: Pedido incompleto\n",
      "    Buenos días,\n",
      "    El pedido que recibí está incompleto. Faltan varios artículos que ya he pagado.\n",
      "    Espero una solución inmediata.\n",
      "Predicción: negativo, Confianza: 0.49\n",
      "\n",
      "Texto: Asunto: Solicitud de información\n",
      "    Estimados,\n",
      "    Podrían enviarme los detalles técnicos del producto Z45, por favor?\n",
      "    Quedo atento a su respuesta.\n",
      "Predicción: neutro, Confianza: 0.82\n",
      "\n",
      "Texto: Asunto: Felicitaciones por el servicio\n",
      "    Buen trabajo con el soporte técnico, me ayudaron rápido y resolvieron todo a la perfección.\n",
      "Predicción: positivo, Confianza: 0.83\n",
      "\n",
      "Texto: Asunto: Incidencia no resuelta\n",
      "    Llevo días esperando que resuelvan el problema con mi pedido, pero no recibo respuestas claras.\n",
      "    Esto es muy frustrante.\n",
      "Predicción: negativo, Confianza: 0.75\n",
      "\n"
     ]
    }
   ],
   "source": [
    "from transformers import pipeline\n",
    "import pandas as pd\n",
    "\n",
    "# Carga el pipeline con tu modelo local\n",
    "sentiment_classifier = pipeline(\n",
    "    \"text-classification\",\n",
    "    model=\"./sentiment_model\",\n",
    "    tokenizer=\"./sentiment_model\"\n",
    "    # No usar return_all_scores para obtener solo la mejor predicción\n",
    ")\n",
    "\n",
    "# Ejemplos de correos reales (asunto + cuerpo)\n",
    "test_emails = [\n",
    "    \"\"\"Asunto: Pedido recibido con retraso\n",
    "    Hola equipo,\n",
    "    Quería informar que mi pedido llegó con dos días de retraso, aunque el producto está en buen estado.\n",
    "    Gracias.\"\"\",\n",
    "    \"\"\"Asunto: Producto defectuoso\n",
    "    Estimados,\n",
    "    Recibí el producto con un defecto y quisiera solicitar un reemplazo urgente.\n",
    "    Espero una pronta respuesta.\"\"\",\n",
    "    \"\"\"Asunto: Excelente servicio\n",
    "    Buenas tardes,\n",
    "    Solo quería agradecer la rapidez y eficiencia en la entrega de mi pedido. Muy satisfecho con el servicio.\"\"\",\n",
    "    \"\"\"Asunto: Problemas con la factura\n",
    "    Hola,\n",
    "    He detectado cargos que no reconozco en la factura y necesito que se revise cuanto antes.\n",
    "    Saludos.\"\"\",\n",
    "    \"\"\"Asunto: Consulta sobre producto\n",
    "    Buen día,\n",
    "    Me gustaría saber si el modelo X200 está disponible en color negro y si tiene garantía extendida.\n",
    "    Gracias.\"\"\",\n",
    "    \"\"\"Asunto: Gracias por la ayuda\n",
    "    Quiero expresar mi agradecimiento por la asistencia que me brindaron ayer. Todo fue excelente.\"\"\",\n",
    "    \"\"\"Asunto: Pedido incompleto\n",
    "    Buenos días,\n",
    "    El pedido que recibí está incompleto. Faltan varios artículos que ya he pagado.\n",
    "    Espero una solución inmediata.\"\"\",\n",
    "    \"\"\"Asunto: Solicitud de información\n",
    "    Estimados,\n",
    "    Podrían enviarme los detalles técnicos del producto Z45, por favor?\n",
    "    Quedo atento a su respuesta.\"\"\",\n",
    "    \"\"\"Asunto: Felicitaciones por el servicio\n",
    "    Buen trabajo con el soporte técnico, me ayudaron rápido y resolvieron todo a la perfección.\"\"\",\n",
    "    \"\"\"Asunto: Incidencia no resuelta\n",
    "    Llevo días esperando que resuelvan el problema con mi pedido, pero no recibo respuestas claras.\n",
    "    Esto es muy frustrante.\"\"\"\n",
    "]\n",
    "\n",
    "# Etiquetas según entrenamiento (ajusta si es necesario)\n",
    "label_map = {0: \"negativo\", 1: \"neutro\", 2: \"positivo\"}\n",
    "\n",
    "# Clasificar cada correo y mostrar resultado\n",
    "for email_text in test_emails:\n",
    "    output = sentiment_classifier(email_text)[0]  # output es un dict con keys 'label' y 'score'\n",
    "    label = output['label'].lower()\n",
    "    score = output['score']\n",
    "    print(f\"Texto: {email_text}\\nPredicción: {label}, Confianza: {score:.2f}\\n\")\n"
   ]
  }
 ],
 "metadata": {
  "kernelspec": {
   "display_name": ".venv",
   "language": "python",
   "name": "python3"
  },
  "language_info": {
   "codemirror_mode": {
    "name": "ipython",
    "version": 3
   },
   "file_extension": ".py",
   "mimetype": "text/x-python",
   "name": "python",
   "nbconvert_exporter": "python",
   "pygments_lexer": "ipython3",
   "version": "3.10.0"
  }
 },
 "nbformat": 4,
 "nbformat_minor": 5
}
