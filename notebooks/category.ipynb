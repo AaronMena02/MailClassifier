{
 "cells": [
  {
   "cell_type": "code",
   "execution_count": 5,
   "id": "a6066471",
   "metadata": {},
   "outputs": [
    {
     "name": "stderr",
     "output_type": "stream",
     "text": [
      "c:\\Users\\Usuario\\Desktop\\MailClassifier\\.venv\\lib\\site-packages\\huggingface_hub\\file_download.py:943: FutureWarning: `resume_download` is deprecated and will be removed in version 1.0.0. Downloads always resume when possible. If you want to force a new download, use `force_download=True`.\n",
      "  warnings.warn(\n"
     ]
    },
    {
     "data": {
      "application/vnd.jupyter.widget-view+json": {
       "model_id": "462308cb26e44699b302222de84aa5d9",
       "version_major": 2,
       "version_minor": 0
      },
      "text/plain": [
       "Map:   0%|          | 0/234 [00:00<?, ? examples/s]"
      ]
     },
     "metadata": {},
     "output_type": "display_data"
    },
    {
     "name": "stderr",
     "output_type": "stream",
     "text": [
      "Asking to truncate to max_length but no maximum length is provided and the model has no predefined maximum length. Default to no truncation.\n",
      "Some weights of RobertaForSequenceClassification were not initialized from the model checkpoint at pysentimiento/robertuito-base-uncased and are newly initialized: ['classifier.dense.bias', 'classifier.dense.weight', 'classifier.out_proj.bias', 'classifier.out_proj.weight']\n",
      "You should probably TRAIN this model on a down-stream task to be able to use it for predictions and inference.\n"
     ]
    },
    {
     "data": {
      "application/vnd.jupyter.widget-view+json": {
       "model_id": "bcb08aa203e048e6a8da1185c3152e54",
       "version_major": 2,
       "version_minor": 0
      },
      "text/plain": [
       "  0%|          | 0/144 [00:00<?, ?it/s]"
      ]
     },
     "metadata": {},
     "output_type": "display_data"
    },
    {
     "name": "stderr",
     "output_type": "stream",
     "text": [
      "c:\\Users\\Usuario\\Desktop\\MailClassifier\\.venv\\lib\\site-packages\\torch\\utils\\data\\dataloader.py:665: UserWarning: 'pin_memory' argument is set as true but no accelerator is found, then device pinned memory won't be used.\n",
      "  warnings.warn(warn_msg)\n"
     ]
    },
    {
     "name": "stdout",
     "output_type": "stream",
     "text": [
      "{'loss': 1.348, 'grad_norm': 9.223075866699219, 'learning_rate': 1.8611111111111114e-05, 'epoch': 0.42}\n",
      "{'loss': 1.1378, 'grad_norm': 6.37191104888916, 'learning_rate': 1.7222222222222224e-05, 'epoch': 0.83}\n"
     ]
    },
    {
     "data": {
      "application/vnd.jupyter.widget-view+json": {
       "model_id": "12052064dd6a455b927c86a548307e4a",
       "version_major": 2,
       "version_minor": 0
      },
      "text/plain": [
       "  0%|          | 0/6 [00:00<?, ?it/s]"
      ]
     },
     "metadata": {},
     "output_type": "display_data"
    },
    {
     "name": "stdout",
     "output_type": "stream",
     "text": [
      "{'eval_loss': 0.9002441763877869, 'eval_accuracy': 0.8297872340425532, 'eval_f1': 0.8338931007309583, 'eval_runtime': 1.1667, 'eval_samples_per_second': 40.284, 'eval_steps_per_second': 5.143, 'epoch': 1.0}\n"
     ]
    },
    {
     "name": "stderr",
     "output_type": "stream",
     "text": [
      "c:\\Users\\Usuario\\Desktop\\MailClassifier\\.venv\\lib\\site-packages\\torch\\utils\\data\\dataloader.py:665: UserWarning: 'pin_memory' argument is set as true but no accelerator is found, then device pinned memory won't be used.\n",
      "  warnings.warn(warn_msg)\n"
     ]
    },
    {
     "name": "stdout",
     "output_type": "stream",
     "text": [
      "{'loss': 0.882, 'grad_norm': 5.465376853942871, 'learning_rate': 1.5833333333333333e-05, 'epoch': 1.25}\n",
      "{'loss': 0.6737, 'grad_norm': 4.966735363006592, 'learning_rate': 1.4444444444444446e-05, 'epoch': 1.67}\n"
     ]
    },
    {
     "data": {
      "application/vnd.jupyter.widget-view+json": {
       "model_id": "a39cd2f4a0b444bd80898dffdd68c3f2",
       "version_major": 2,
       "version_minor": 0
      },
      "text/plain": [
       "  0%|          | 0/6 [00:00<?, ?it/s]"
      ]
     },
     "metadata": {},
     "output_type": "display_data"
    },
    {
     "name": "stdout",
     "output_type": "stream",
     "text": [
      "{'eval_loss': 0.4878710210323334, 'eval_accuracy': 0.8936170212765957, 'eval_f1': 0.895744680851064, 'eval_runtime': 1.1383, 'eval_samples_per_second': 41.29, 'eval_steps_per_second': 5.271, 'epoch': 2.0}\n"
     ]
    },
    {
     "name": "stderr",
     "output_type": "stream",
     "text": [
      "c:\\Users\\Usuario\\Desktop\\MailClassifier\\.venv\\lib\\site-packages\\torch\\utils\\data\\dataloader.py:665: UserWarning: 'pin_memory' argument is set as true but no accelerator is found, then device pinned memory won't be used.\n",
      "  warnings.warn(warn_msg)\n"
     ]
    },
    {
     "name": "stdout",
     "output_type": "stream",
     "text": [
      "{'loss': 0.5355, 'grad_norm': 8.049203872680664, 'learning_rate': 1.3055555555555557e-05, 'epoch': 2.08}\n",
      "{'loss': 0.4231, 'grad_norm': 3.6527113914489746, 'learning_rate': 1.1666666666666668e-05, 'epoch': 2.5}\n",
      "{'loss': 0.342, 'grad_norm': 5.635288715362549, 'learning_rate': 1.0277777777777777e-05, 'epoch': 2.92}\n"
     ]
    },
    {
     "data": {
      "application/vnd.jupyter.widget-view+json": {
       "model_id": "7e97078a8aa54e40a79f461d3a16420c",
       "version_major": 2,
       "version_minor": 0
      },
      "text/plain": [
       "  0%|          | 0/6 [00:00<?, ?it/s]"
      ]
     },
     "metadata": {},
     "output_type": "display_data"
    },
    {
     "name": "stdout",
     "output_type": "stream",
     "text": [
      "{'eval_loss': 0.30853959918022156, 'eval_accuracy': 0.9148936170212766, 'eval_f1': 0.916250385445575, 'eval_runtime': 1.2731, 'eval_samples_per_second': 36.919, 'eval_steps_per_second': 4.713, 'epoch': 3.0}\n"
     ]
    },
    {
     "name": "stderr",
     "output_type": "stream",
     "text": [
      "c:\\Users\\Usuario\\Desktop\\MailClassifier\\.venv\\lib\\site-packages\\torch\\utils\\data\\dataloader.py:665: UserWarning: 'pin_memory' argument is set as true but no accelerator is found, then device pinned memory won't be used.\n",
      "  warnings.warn(warn_msg)\n"
     ]
    },
    {
     "name": "stdout",
     "output_type": "stream",
     "text": [
      "{'loss': 0.2247, 'grad_norm': 5.4576263427734375, 'learning_rate': 8.888888888888888e-06, 'epoch': 3.33}\n",
      "{'loss': 0.2328, 'grad_norm': 1.2899322509765625, 'learning_rate': 7.500000000000001e-06, 'epoch': 3.75}\n"
     ]
    },
    {
     "data": {
      "application/vnd.jupyter.widget-view+json": {
       "model_id": "1d364aed922149beadacbd27ba03978c",
       "version_major": 2,
       "version_minor": 0
      },
      "text/plain": [
       "  0%|          | 0/6 [00:00<?, ?it/s]"
      ]
     },
     "metadata": {},
     "output_type": "display_data"
    },
    {
     "name": "stdout",
     "output_type": "stream",
     "text": [
      "{'eval_loss': 0.2633228302001953, 'eval_accuracy': 0.9361702127659575, 'eval_f1': 0.9365248226950355, 'eval_runtime': 1.2785, 'eval_samples_per_second': 36.762, 'eval_steps_per_second': 4.693, 'epoch': 4.0}\n"
     ]
    },
    {
     "name": "stderr",
     "output_type": "stream",
     "text": [
      "c:\\Users\\Usuario\\Desktop\\MailClassifier\\.venv\\lib\\site-packages\\torch\\utils\\data\\dataloader.py:665: UserWarning: 'pin_memory' argument is set as true but no accelerator is found, then device pinned memory won't be used.\n",
      "  warnings.warn(warn_msg)\n"
     ]
    },
    {
     "name": "stdout",
     "output_type": "stream",
     "text": [
      "{'loss': 0.2527, 'grad_norm': 4.916790962219238, 'learning_rate': 6.111111111111112e-06, 'epoch': 4.17}\n",
      "{'loss': 0.2346, 'grad_norm': 4.390562534332275, 'learning_rate': 4.722222222222222e-06, 'epoch': 4.58}\n",
      "{'loss': 0.1125, 'grad_norm': 1.4338359832763672, 'learning_rate': 3.3333333333333333e-06, 'epoch': 5.0}\n"
     ]
    },
    {
     "data": {
      "application/vnd.jupyter.widget-view+json": {
       "model_id": "2f8fb0a9554f4e29a078667075fde422",
       "version_major": 2,
       "version_minor": 0
      },
      "text/plain": [
       "  0%|          | 0/6 [00:00<?, ?it/s]"
      ]
     },
     "metadata": {},
     "output_type": "display_data"
    },
    {
     "name": "stdout",
     "output_type": "stream",
     "text": [
      "{'eval_loss': 0.2382822185754776, 'eval_accuracy': 0.9361702127659575, 'eval_f1': 0.9365248226950355, 'eval_runtime': 1.2679, 'eval_samples_per_second': 37.07, 'eval_steps_per_second': 4.732, 'epoch': 5.0}\n"
     ]
    },
    {
     "name": "stderr",
     "output_type": "stream",
     "text": [
      "c:\\Users\\Usuario\\Desktop\\MailClassifier\\.venv\\lib\\site-packages\\torch\\utils\\data\\dataloader.py:665: UserWarning: 'pin_memory' argument is set as true but no accelerator is found, then device pinned memory won't be used.\n",
      "  warnings.warn(warn_msg)\n"
     ]
    },
    {
     "name": "stdout",
     "output_type": "stream",
     "text": [
      "{'loss': 0.1114, 'grad_norm': 0.8540238738059998, 'learning_rate': 1.944444444444445e-06, 'epoch': 5.42}\n",
      "{'loss': 0.1817, 'grad_norm': 11.23680591583252, 'learning_rate': 5.555555555555555e-07, 'epoch': 5.83}\n"
     ]
    },
    {
     "data": {
      "application/vnd.jupyter.widget-view+json": {
       "model_id": "a1fcf64e66274ac0bf774e64e4d6e143",
       "version_major": 2,
       "version_minor": 0
      },
      "text/plain": [
       "  0%|          | 0/6 [00:00<?, ?it/s]"
      ]
     },
     "metadata": {},
     "output_type": "display_data"
    },
    {
     "name": "stdout",
     "output_type": "stream",
     "text": [
      "{'eval_loss': 0.2115934044122696, 'eval_accuracy': 0.9361702127659575, 'eval_f1': 0.9365248226950355, 'eval_runtime': 1.2686, 'eval_samples_per_second': 37.05, 'eval_steps_per_second': 4.73, 'epoch': 6.0}\n",
      "{'train_runtime': 152.2908, 'train_samples_per_second': 7.367, 'train_steps_per_second': 0.946, 'train_loss': 0.46717740160723525, 'epoch': 6.0}\n"
     ]
    },
    {
     "data": {
      "text/plain": [
       "('./category_model\\\\tokenizer_config.json',\n",
       " './category_model\\\\special_tokens_map.json',\n",
       " './category_model\\\\tokenizer.json')"
      ]
     },
     "execution_count": 5,
     "metadata": {},
     "output_type": "execute_result"
    }
   ],
   "source": [
    "from transformers import AutoTokenizer, AutoModelForSequenceClassification, TrainingArguments, Trainer\n",
    "from datasets import Dataset\n",
    "import pandas as pd\n",
    "from sklearn.preprocessing import LabelEncoder\n",
    "import numpy as np\n",
    "import torch\n",
    "from transformers import EarlyStoppingCallback\n",
    "\n",
    "#Cargar y preparar el dataset\n",
    "df = pd.read_csv(\"../data/mails_dataset.csv\")  \n",
    "\n",
    "#Concatenar asunto y cuerpo separados por espacio\n",
    "df['text_combined'] = df['subject'].fillna('') + ' </s> ' + df['text'].fillna('')\n",
    "\n",
    "df = df[['text_combined', 'category']].dropna()\n",
    "\n",
    "# Codificar etiquetas\n",
    "label_encoder = LabelEncoder()\n",
    "df[\"label\"] = label_encoder.fit_transform(df[\"category\"])\n",
    "\n",
    "# Guardar las etiquetas para decodificar luego\n",
    "label2id = {label: i for i, label in enumerate(label_encoder.classes_)}\n",
    "id2label = {i: label for label, i in label2id.items()}\n",
    "\n",
    "# Crear Dataset de Hugging Face\n",
    "dataset = Dataset.from_pandas(df.rename(columns={\"text_combined\": \"text\", \"label\": \"label\"}))\n",
    "\n",
    "#Tokenización\n",
    "model_name = \"pysentimiento/robertuito-base-uncased\"\n",
    "tokenizer = AutoTokenizer.from_pretrained(model_name)\n",
    "\n",
    "def tokenize(batch):\n",
    "    return tokenizer(batch[\"text\"], padding=True, truncation=True)\n",
    "\n",
    "dataset = dataset.map(tokenize, batched=True)\n",
    "\n",
    "# División entrenamiento y validación\n",
    "dataset = dataset.train_test_split(test_size=0.2)\n",
    "\n",
    "# Cargar modelo preentrenado\n",
    "num_labels = len(label2id)\n",
    "model = AutoModelForSequenceClassification.from_pretrained(\n",
    "    model_name,\n",
    "    num_labels=num_labels,\n",
    "    id2label=id2label,\n",
    "    label2id=label2id\n",
    ")\n",
    "\n",
    "# Configurar entrenamiento\n",
    "training_args = TrainingArguments(\n",
    "    output_dir=\"./category_model\",\n",
    "    evaluation_strategy=\"epoch\",\n",
    "    save_strategy=\"epoch\",\n",
    "    load_best_model_at_end=True,      \n",
    "    metric_for_best_model=\"f1\",        \n",
    "    learning_rate=2e-5,\n",
    "    per_device_train_batch_size=8,\n",
    "    per_device_eval_batch_size=8,\n",
    "    num_train_epochs=6,\n",
    "    weight_decay=0.01,\n",
    "    logging_dir=\"./logs_category\",\n",
    "    logging_steps=10\n",
    ")\n",
    "\n",
    "# Función de evaluación\n",
    "from sklearn.metrics import accuracy_score, f1_score\n",
    "\n",
    "def compute_metrics(pred):\n",
    "    labels = pred.label_ids\n",
    "    preds = np.argmax(pred.predictions, axis=1)\n",
    "    acc = accuracy_score(labels, preds)\n",
    "    f1 = f1_score(labels, preds, average=\"weighted\")\n",
    "    return {\"accuracy\": acc, \"f1\": f1}\n",
    "\n",
    "# Entrenador\n",
    "trainer = Trainer(\n",
    "    model=model,\n",
    "    args=training_args,\n",
    "    train_dataset=dataset[\"train\"],\n",
    "    eval_dataset=dataset[\"test\"],\n",
    "    tokenizer=tokenizer,\n",
    "    compute_metrics=compute_metrics,\n",
    "    callbacks=[EarlyStoppingCallback(early_stopping_patience=3)],\n",
    ")\n",
    "\n",
    "trainer.train()\n",
    "\n",
    "# Guardar el modelo y tokenizer\n",
    "trainer.save_model(\"./category_model\")\n",
    "tokenizer.save_pretrained(\"./category_model\")"
   ]
  },
  {
   "cell_type": "code",
   "execution_count": 6,
   "id": "fb0bb299",
   "metadata": {},
   "outputs": [
    {
     "name": "stderr",
     "output_type": "stream",
     "text": [
      "c:\\Users\\Usuario\\Desktop\\MailClassifier\\.venv\\lib\\site-packages\\torch\\utils\\data\\dataloader.py:665: UserWarning: 'pin_memory' argument is set as true but no accelerator is found, then device pinned memory won't be used.\n",
      "  warnings.warn(warn_msg)\n"
     ]
    },
    {
     "data": {
      "application/vnd.jupyter.widget-view+json": {
       "model_id": "dad2289dbd414269b570e2a852d616cb",
       "version_major": 2,
       "version_minor": 0
      },
      "text/plain": [
       "  0%|          | 0/6 [00:00<?, ?it/s]"
      ]
     },
     "metadata": {},
     "output_type": "display_data"
    },
    {
     "name": "stdout",
     "output_type": "stream",
     "text": [
      "Reporte de clasificación por clase:\n",
      "              precision    recall  f1-score   support\n",
      "\n",
      "   comercial       1.00      1.00      1.00         9\n",
      "        otro       1.00      0.88      0.93        16\n",
      "       queja       0.91      0.91      0.91        11\n",
      "   solicitud       0.85      1.00      0.92        11\n",
      "\n",
      "    accuracy                           0.94        47\n",
      "   macro avg       0.94      0.95      0.94        47\n",
      "weighted avg       0.94      0.94      0.94        47\n",
      "\n"
     ]
    }
   ],
   "source": [
    "from sklearn.metrics import classification_report\n",
    "import numpy as np\n",
    "\n",
    "# Obtener predicciones sobre el set de evaluación\n",
    "predictions = trainer.predict(dataset[\"test\"])\n",
    "y_true = predictions.label_ids\n",
    "y_pred = np.argmax(predictions.predictions, axis=1)\n",
    "\n",
    "# Mostrar el reporte con los nombres reales de las clases\n",
    "print(\"Reporte de clasificación por clase:\")\n",
    "print(classification_report(y_true, y_pred, target_names=label_encoder.classes_))\n"
   ]
  },
  {
   "cell_type": "code",
   "execution_count": 3,
   "id": "0447ed9b",
   "metadata": {},
   "outputs": [
    {
     "name": "stdout",
     "output_type": "stream",
     "text": [
      "Texto                                                        | Esperado   | Predicción | Score\n",
      "----------------------------------------------------------------------------------------------------\n",
      "Mi pedido no ha llegado y ya pasaron 10 días                 | queja      | queja      | 0.8492\n",
      "¿Pueden confirmarme si tienen stock del producto?            | solicitud  | solicitud  | 0.5591\n",
      "Estamos interesados en su oferta para empresas               | comercial  | comercial  | 0.8952\n",
      "Gracias por la atención, todo perfecto                       | otro       | otro       | 0.7990\n",
      "Solicito el número de seguimiento del pedido                 | solicitud  | solicitud  | 0.8269\n",
      "Recibí el producto roto y nadie contesta                     | queja      | queja      | 0.8825\n",
      "¿Ofrecen descuentos para distribuidores?                     | comercial  | comercial  | 0.8675\n",
      "Todo ha ido perfecto, gracias                                | otro       | otro       | 0.7804\n",
      "Quiero programar una reunión comercial                       | comercial  | comercial  | 0.4045\n",
      "Me gustaría confirmar si el producto tiene garantía          | solicitud  | solicitud  | 0.7555\n"
     ]
    }
   ],
   "source": [
    "from transformers import pipeline\n",
    "import pandas as pd\n",
    "\n",
    "# Cargar modelo y tokenizer ya entrenados\n",
    "clf = pipeline(\"text-classification\", model=\"./modelo_categoria\", tokenizer=\"./modelo_categoria\")\n",
    "\n",
    "# Lista de pruebas: (texto, categoría esperada)\n",
    "ejemplos = [\n",
    "    (\"Mi pedido no ha llegado y ya pasaron 10 días\", \"queja\"),\n",
    "    (\"¿Pueden confirmarme si tienen stock del producto?\", \"solicitud\"),\n",
    "    (\"Estamos interesados en su oferta para empresas\", \"comercial\"),\n",
    "    (\"Gracias por la atención, todo perfecto\", \"otro\"),\n",
    "    (\"Solicito el número de seguimiento del pedido\", \"solicitud\"),\n",
    "    (\"Recibí el producto roto y nadie contesta\", \"queja\"),\n",
    "    (\"¿Ofrecen descuentos para distribuidores?\", \"comercial\"),\n",
    "    (\"Todo ha ido perfecto, gracias\", \"otro\"),\n",
    "    (\"Quiero programar una reunión comercial\", \"comercial\"),\n",
    "    (\"Me gustaría confirmar si el producto tiene garantía\", \"solicitud\"),\n",
    "]\n",
    "\n",
    "# Ejecutar predicciones\n",
    "print(f\"{'Texto':<60} | {'Esperado':<10} | {'Predicción':<10} | {'Score'}\")\n",
    "print(\"-\" * 100)\n",
    "\n",
    "for texto, esperado in ejemplos:\n",
    "    pred = clf(texto)[0]\n",
    "    print(f\"{texto[:57]:<60} | {esperado:<10} | {pred['label']:<10} | {pred['score']:.4f}\")\n"
   ]
  }
 ],
 "metadata": {
  "kernelspec": {
   "display_name": ".venv",
   "language": "python",
   "name": "python3"
  },
  "language_info": {
   "codemirror_mode": {
    "name": "ipython",
    "version": 3
   },
   "file_extension": ".py",
   "mimetype": "text/x-python",
   "name": "python",
   "nbconvert_exporter": "python",
   "pygments_lexer": "ipython3",
   "version": "3.10.0"
  }
 },
 "nbformat": 4,
 "nbformat_minor": 5
}
